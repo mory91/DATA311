{
 "cells": [
  {
   "cell_type": "markdown",
   "id": "4f8f58d0",
   "metadata": {},
   "source": [
    "# 1.1 Python\n",
    "\n",
    "### What is Python?\n",
    "\n",
    "Python is an interpreted high level programming language.  It is often classified as a\n",
    "[\"scripting language\"](https://en.wikipedia.org/wiki/Scripting_language) and\n",
    "is considered similar to languages such as Perl, Tcl, or Ruby.  The syntax\n",
    "of Python is loosely inspired by elements of C programming.\n",
    "\n",
    "Python was created by Guido van Rossum around 1990 who named it in honor of Monty Python.\n",
    "\n",
    "### Where to get Python?\n",
    "\n",
    "[Python.org](https://www.python.org/) is where you obtain Python.  For the purposes of this course, you\n",
    "only need a basic installation.  I recommend installing Python 3.6 or newer. Python 3.6 is used in the notes\n",
    "and solutions.\n",
    "\n",
    "### Why was Python created?\n",
    "\n",
    "In the words of Python's creator:\n",
    "\n",
    "> My original motivation for creating Python was the perceived need\n",
    "> for a higher level language in the Amoeba [Operating Systems]\n",
    "> project. I realized that the development of system administration\n",
    "> utilities in C was taking too long. Moreover, doing these things in\n",
    "> the Bourne shell wouldn't work for a variety of reasons. ... So,\n",
    "> there was a need for a language that would bridge the gap between C\n",
    "> and the shell.\n",
    ">\n",
    "> - Guido van Rossum\n",
    "\n",
    "### Where is Python on my Machine?\n",
    "\n",
    "Although there are many environments in which you might run Python,\n",
    "Python is typically installed on your machine as a program that runs\n",
    "from the terminal or command shell. From the terminal, you should be\n",
    "able to type `python` like this:\n",
    "\n",
    "```\n",
    "bash $ python\n",
    "Python 3.8.1 (default, Feb 20 2020, 09:29:22)\n",
    "[Clang 10.0.0 (clang-1000.10.44.4)] on darwin\n",
    "Type \"help\", \"copyright\", \"credits\" or \"license\" for more information.\n",
    ">>> print(\"hello world\")\n",
    "hello world\n",
    ">>>\n",
    "```\n",
    "\n",
    "If you are new to using the shell or a terminal, you should probably\n",
    "stop, finish a short tutorial on that first, and then return here.\n",
    "\n",
    "Although there are many non-shell environments where you can code\n",
    "Python, you will be a stronger Python programmer if you are able to\n",
    "run, debug, and interact with Python at the terminal.  This is\n",
    "Python's native environment.  If you are able to use Python here, you\n",
    "will be able to use it everywhere else.\n"
   ]
  },
  {
   "cell_type": "markdown",
   "id": "99252306",
   "metadata": {},
   "source": [
    "## Exercises\n",
    "\n",
    "### Exercise 1.1: Using Python as a Calculator\n",
    "\n",
    "On your machine, start Python and use it as a calculator to solve the\n",
    "following problem.\n",
    "\n",
    "Lucky Larry bought 75 shares of Google stock at a price of $235.14 per\n",
    "share. Today, shares of Google are priced at $711.25. Using Python’s\n",
    "interactive mode as a calculator, figure out how much profit Larry would\n",
    "make if he sold all of his shares."
   ]
  },
  {
   "cell_type": "code",
   "execution_count": 4,
   "id": "3d8d3899",
   "metadata": {},
   "outputs": [],
   "source": [
    "# YOUR CODE HERE"
   ]
  },
  {
   "cell_type": "markdown",
   "id": "150aa3a5",
   "metadata": {},
   "source": [
    "Pro-tip: Use the underscore (\\_) variable to use the result of the last\n",
    "calculation. For example, how much profit does Larry make after his evil\n",
    "broker takes their 20% cut?"
   ]
  },
  {
   "cell_type": "code",
   "execution_count": 6,
   "id": "2291df85",
   "metadata": {},
   "outputs": [],
   "source": [
    "# YOUR CODE HERE"
   ]
  },
  {
   "cell_type": "markdown",
   "id": "3132babb",
   "metadata": {},
   "source": [
    "### Exercise 1.2: Getting help\n",
    "\n",
    "Use the `help()` command to get help on the `abs()` function. Then use\n",
    "`help()` to get help on the `round()` function. Type `help()` just by\n",
    "itself with no value to enter the interactive help viewer.\n",
    "\n",
    "One caution with `help()` is that it doesn’t work for basic Python\n",
    "statements such as `for`, `if`, `while`, and so forth (i.e., if you type\n",
    "`help(for)` you’ll get a syntax error). You can try putting the help\n",
    "topic in quotes such as `help(\"for\")` instead. If that doesn’t work,\n",
    "you’ll have to turn to an internet search.\n",
    "\n",
    "Followup: Go to <http://docs.python.org> and find the documentation for\n",
    "the `abs()` function (hint: it’s found under the library reference\n",
    "related to built-in functions)."
   ]
  },
  {
   "cell_type": "markdown",
   "id": "82ff8573",
   "metadata": {},
   "source": [
    "### Exercise 1.3: Where is My Bus?\n",
    "\n",
    "We use calgary transit API to get next ctrain arrival times at University Station SB.\n",
    "Just copy to see the resulst"
   ]
  },
  {
   "cell_type": "markdown",
   "id": "92a4fd85",
   "metadata": {},
   "source": [
    "```bash\n",
    "$ !pip install beautifulsoup4 requests\n",
    "```\n",
    "```python\n",
    ">>> import requests\n",
    ">>> from bs4 import BeautifulSoup\n",
    ">>> r = requests.get('https://hastinfo.calgarytransit.com/HastinfoMVCWeb/NextPassingTimes/RequestNextPassingTimes?suggestionInputIdentifier=8566&suggestionInputType=Stop&stopInputIdentifier=&mustBeAccessible=false&_=1694414973520').json()\n",
    ">>> soup = BeautifulSoup(r[\"Html\"], 'html.parser')\n",
    ">>> ', '.join([div.getText() for div in soup.find_all(\"div\", {\"class\": \"NextPassingTimesTime\"})])\n",
    "```"
   ]
  },
  {
   "cell_type": "code",
   "execution_count": null,
   "id": "e894512a",
   "metadata": {},
   "outputs": [],
   "source": [
    "# YOUR CODE HERE"
   ]
  }
 ],
 "metadata": {
  "kernelspec": {
   "display_name": "Python 3 (ipykernel)",
   "language": "python",
   "name": "python3"
  },
  "language_info": {
   "codemirror_mode": {
    "name": "ipython",
    "version": 3
   },
   "file_extension": ".py",
   "mimetype": "text/x-python",
   "name": "python",
   "nbconvert_exporter": "python",
   "pygments_lexer": "ipython3",
   "version": "3.10.2"
  }
 },
 "nbformat": 4,
 "nbformat_minor": 5
}
